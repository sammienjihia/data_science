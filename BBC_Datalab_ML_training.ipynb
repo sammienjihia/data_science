{
 "cells": [
  {
   "cell_type": "code",
   "execution_count": 4,
   "metadata": {},
   "outputs": [],
   "source": [
    "import pandas as pd\n",
    "import numpy as np\n",
    "import math \n",
    "import datetime\n",
    "import matplotlib.pyplot as plt"
   ]
  },
  {
   "cell_type": "code",
   "execution_count": 7,
   "metadata": {},
   "outputs": [],
   "source": [
    "%matplotlib inline"
   ]
  },
  {
   "cell_type": "markdown",
   "metadata": {},
   "source": [
    "# 1. DATA EXPLORATION"
   ]
  },
  {
   "cell_type": "code",
   "execution_count": 8,
   "metadata": {},
   "outputs": [],
   "source": [
    "# The BBC would like to know audyence statistics that reflect how likely their audiences continue to consume their content"
   ]
  },
  {
   "cell_type": "code",
   "execution_count": 9,
   "metadata": {},
   "outputs": [],
   "source": [
    "# Problem Definition\n",
    "# The BBC would like to know if there's a correlation between audience viewing behaviour (what and when they have watched on iPlayer)\n",
    "# and the amount of content they have consumed in a 14 day period i.e what content do they watch and where do they watch them from"
   ]
  },
  {
   "cell_type": "markdown",
   "metadata": {},
   "source": [
    "# 1.1 DataSampling "
   ]
  },
  {
   "cell_type": "markdown",
   "metadata": {},
   "source": [
    "Toensure that any inferences you make from your dataset can be generalised to the real world it is important to ensure the data you choose for your dataset is indeed a good representation of the wider population it is sampled from and in particular free from systemic biases"
   ]
  },
  {
   "cell_type": "code",
   "execution_count": 10,
   "metadata": {},
   "outputs": [],
   "source": [
    "# parse_dates parameter to initialise the start_date_time column as datetime datatype\n",
    "data = pd.read_csv('iplayer_data_sample_janapr2017.csv', parse_dates=['start_date_time'])"
   ]
  },
  {
   "cell_type": "code",
   "execution_count": 11,
   "metadata": {},
   "outputs": [
    {
     "data": {
      "text/plain": [
       "(490852, 8)"
      ]
     },
     "execution_count": 11,
     "metadata": {},
     "output_type": "execute_result"
    }
   ],
   "source": [
    "data.shape"
   ]
  },
  {
   "cell_type": "code",
   "execution_count": 12,
   "metadata": {},
   "outputs": [
    {
     "data": {
      "text/html": [
       "<div>\n",
       "<style scoped>\n",
       "    .dataframe tbody tr th:only-of-type {\n",
       "        vertical-align: middle;\n",
       "    }\n",
       "\n",
       "    .dataframe tbody tr th {\n",
       "        vertical-align: top;\n",
       "    }\n",
       "\n",
       "    .dataframe thead th {\n",
       "        text-align: right;\n",
       "    }\n",
       "</style>\n",
       "<table border=\"1\" class=\"dataframe\">\n",
       "  <thead>\n",
       "    <tr style=\"text-align: right;\">\n",
       "      <th></th>\n",
       "      <th>user_id</th>\n",
       "      <th>program_id</th>\n",
       "      <th>series_id</th>\n",
       "      <th>genre</th>\n",
       "      <th>programme_duration</th>\n",
       "      <th>streaming_id</th>\n",
       "      <th>start_date_time</th>\n",
       "      <th>time_viewed</th>\n",
       "    </tr>\n",
       "  </thead>\n",
       "  <tbody>\n",
       "    <tr>\n",
       "      <th>0</th>\n",
       "      <td>GUNMFC</td>\n",
       "      <td>BUNBFKC</td>\n",
       "      <td>RFMHXZ</td>\n",
       "      <td>Factual</td>\n",
       "      <td>00:00:21</td>\n",
       "      <td>1486911129420_1</td>\n",
       "      <td>2017-02-12 15:21:24.544</td>\n",
       "      <td>20920.0</td>\n",
       "    </tr>\n",
       "    <tr>\n",
       "      <th>1</th>\n",
       "      <td>GUNMFC</td>\n",
       "      <td>SBTKDEW</td>\n",
       "      <td>EWBFGO</td>\n",
       "      <td>Comedy</td>\n",
       "      <td>00:01:51</td>\n",
       "      <td>1484864257965_1</td>\n",
       "      <td>2017-01-19 22:47:04.648</td>\n",
       "      <td>111285.0</td>\n",
       "    </tr>\n",
       "    <tr>\n",
       "      <th>2</th>\n",
       "      <td>GUNMFC</td>\n",
       "      <td>AXXRZDT</td>\n",
       "      <td>HFZOYT</td>\n",
       "      <td>Factual</td>\n",
       "      <td>00:00:30</td>\n",
       "      <td>1487099603980_1</td>\n",
       "      <td>2017-02-14 19:42:36.667</td>\n",
       "      <td>29945.0</td>\n",
       "    </tr>\n",
       "    <tr>\n",
       "      <th>3</th>\n",
       "      <td>GUNMFC</td>\n",
       "      <td>WEXFFOO</td>\n",
       "      <td>HZCOOC</td>\n",
       "      <td>Entertainment</td>\n",
       "      <td>00:01:22</td>\n",
       "      <td>1484773546557_1</td>\n",
       "      <td>2017-01-18 21:35:11.466</td>\n",
       "      <td>82620.0</td>\n",
       "    </tr>\n",
       "    <tr>\n",
       "      <th>4</th>\n",
       "      <td>GUNMFC</td>\n",
       "      <td>AUQGTSV</td>\n",
       "      <td>YMAXJD</td>\n",
       "      <td>Sport</td>\n",
       "      <td>00:01:37</td>\n",
       "      <td>1486911176609_1</td>\n",
       "      <td>2017-02-12 15:22:08.965</td>\n",
       "      <td>97444.0</td>\n",
       "    </tr>\n",
       "  </tbody>\n",
       "</table>\n",
       "</div>"
      ],
      "text/plain": [
       "  user_id program_id series_id          genre programme_duration  \\\n",
       "0  GUNMFC    BUNBFKC    RFMHXZ        Factual           00:00:21   \n",
       "1  GUNMFC    SBTKDEW    EWBFGO         Comedy           00:01:51   \n",
       "2  GUNMFC    AXXRZDT    HFZOYT        Factual           00:00:30   \n",
       "3  GUNMFC    WEXFFOO    HZCOOC  Entertainment           00:01:22   \n",
       "4  GUNMFC    AUQGTSV    YMAXJD          Sport           00:01:37   \n",
       "\n",
       "      streaming_id         start_date_time  time_viewed  \n",
       "0  1486911129420_1 2017-02-12 15:21:24.544      20920.0  \n",
       "1  1484864257965_1 2017-01-19 22:47:04.648     111285.0  \n",
       "2  1487099603980_1 2017-02-14 19:42:36.667      29945.0  \n",
       "3  1484773546557_1 2017-01-18 21:35:11.466      82620.0  \n",
       "4  1486911176609_1 2017-02-12 15:22:08.965      97444.0  "
      ]
     },
     "execution_count": 12,
     "metadata": {},
     "output_type": "execute_result"
    }
   ],
   "source": [
    "data.head()"
   ]
  },
  {
   "cell_type": "code",
   "execution_count": 14,
   "metadata": {},
   "outputs": [
    {
     "data": {
      "text/html": [
       "<div>\n",
       "<style scoped>\n",
       "    .dataframe tbody tr th:only-of-type {\n",
       "        vertical-align: middle;\n",
       "    }\n",
       "\n",
       "    .dataframe tbody tr th {\n",
       "        vertical-align: top;\n",
       "    }\n",
       "\n",
       "    .dataframe thead th {\n",
       "        text-align: right;\n",
       "    }\n",
       "</style>\n",
       "<table border=\"1\" class=\"dataframe\">\n",
       "  <thead>\n",
       "    <tr style=\"text-align: right;\">\n",
       "      <th></th>\n",
       "      <th>program_id</th>\n",
       "      <th>user_id</th>\n",
       "      <th>series_id</th>\n",
       "      <th>time_viewed</th>\n",
       "    </tr>\n",
       "  </thead>\n",
       "  <tbody>\n",
       "    <tr>\n",
       "      <th>0</th>\n",
       "      <td>BUNBFKC</td>\n",
       "      <td>GUNMFC</td>\n",
       "      <td>RFMHXZ</td>\n",
       "      <td>20920.0</td>\n",
       "    </tr>\n",
       "  </tbody>\n",
       "</table>\n",
       "</div>"
      ],
      "text/plain": [
       "  program_id user_id series_id  time_viewed\n",
       "0    BUNBFKC  GUNMFC    RFMHXZ      20920.0"
      ]
     },
     "execution_count": 14,
     "metadata": {},
     "output_type": "execute_result"
    }
   ],
   "source": [
    "data[['program_id', 'user_id', 'series_id', 'time_viewed']][data['series_id']=='RFMHXZ']"
   ]
  },
  {
   "cell_type": "code",
   "execution_count": 16,
   "metadata": {},
   "outputs": [
    {
     "name": "stdout",
     "output_type": "stream",
     "text": [
      "<class 'pandas.core.frame.DataFrame'>\n",
      "RangeIndex: 490852 entries, 0 to 490851\n",
      "Data columns (total 8 columns):\n",
      "user_id               490852 non-null object\n",
      "program_id            457154 non-null object\n",
      "series_id             457154 non-null object\n",
      "genre                 423133 non-null object\n",
      "programme_duration    457154 non-null object\n",
      "streaming_id          490852 non-null object\n",
      "start_date_time       490852 non-null datetime64[ns]\n",
      "time_viewed           488952 non-null float64\n",
      "dtypes: datetime64[ns](1), float64(1), object(6)\n",
      "memory usage: 30.0+ MB\n"
     ]
    }
   ],
   "source": [
    "data.info()"
   ]
  },
  {
   "cell_type": "code",
   "execution_count": 17,
   "metadata": {},
   "outputs": [],
   "source": [
    "# we shall apply the below functions to our dataset columns to enhance our dataset"
   ]
  },
  {
   "cell_type": "code",
   "execution_count": null,
   "metadata": {},
   "outputs": [],
   "source": [
    "# Get the weekday: The weekday() is a datetime method that returns the day of the week as an int\n",
    "# with Monday being 0 and sunday being 6"
   ]
  },
  {
   "cell_type": "code",
   "execution_count": 18,
   "metadata": {},
   "outputs": [],
   "source": [
    "# the below function shall return the day of the week as a string given the datetime\n",
    "def get_weekday(formatted_date):\n",
    "    return 'weekday_' + str(formatted_date.weekday())"
   ]
  },
  {
   "cell_type": "code",
   "execution_count": null,
   "metadata": {},
   "outputs": [],
   "source": [
    "# Get the two week number: the isocalender() is an instance-method that returns a tuple conataining year, \n",
    "# weeknumber and weekday respectively given a date instance"
   ]
  },
  {
   "cell_type": "code",
   "execution_count": 19,
   "metadata": {},
   "outputs": [],
   "source": [
    "# this below function returns the week number tuple( thats the reason behind [1]) divided by 2\n",
    "def get_twoweeknumber(formatted_date):\n",
    "    return math.floor(formatted_date.isocalendar()[1]/2.0)"
   ]
  },
  {
   "cell_type": "code",
   "execution_count": 20,
   "metadata": {},
   "outputs": [],
   "source": [
    "# Get time of day: NB formatted_date.hour in the below function basically gets the hour attribute of the date\n",
    "def get_timeofday(formatted_date):\n",
    "    hour = formatted_date.hour\n",
    "    \n",
    "    if hour in range(5, 13):\n",
    "        return 'Morning'\n",
    "    elif hour in range(13,18):\n",
    "        return 'Afternoon'\n",
    "    elif hour in range(18, 23):\n",
    "        return 'Evening'\n",
    "    else:\n",
    "        return 'Night'"
   ]
  },
  {
   "cell_type": "code",
   "execution_count": 27,
   "metadata": {},
   "outputs": [],
   "source": [
    "# parse the programme duration and convert then into minutes\n",
    "def parse_programme_duration(unformated_time):\n",
    "    try:\n",
    "        time_parts = unformated_time.split(':')\n",
    "        return int(time_parts[0])*60 + int(time_parts[1]) + int(time_parts[2])/60\n",
    "    except:\n",
    "        return\n",
    "    "
   ]
  },
  {
   "cell_type": "code",
   "execution_count": 28,
   "metadata": {},
   "outputs": [
    {
     "data": {
      "text/html": [
       "<div>\n",
       "<style scoped>\n",
       "    .dataframe tbody tr th:only-of-type {\n",
       "        vertical-align: middle;\n",
       "    }\n",
       "\n",
       "    .dataframe tbody tr th {\n",
       "        vertical-align: top;\n",
       "    }\n",
       "\n",
       "    .dataframe thead th {\n",
       "        text-align: right;\n",
       "    }\n",
       "</style>\n",
       "<table border=\"1\" class=\"dataframe\">\n",
       "  <thead>\n",
       "    <tr style=\"text-align: right;\">\n",
       "      <th></th>\n",
       "      <th>user_id</th>\n",
       "      <th>program_id</th>\n",
       "      <th>series_id</th>\n",
       "      <th>genre</th>\n",
       "      <th>programme_duration</th>\n",
       "      <th>streaming_id</th>\n",
       "      <th>start_date_time</th>\n",
       "      <th>time_viewed</th>\n",
       "      <th>weekday</th>\n",
       "      <th>time_of_day</th>\n",
       "      <th>programme_duration_mins</th>\n",
       "      <th>twoweek</th>\n",
       "      <th>min_watched</th>\n",
       "    </tr>\n",
       "  </thead>\n",
       "  <tbody>\n",
       "    <tr>\n",
       "      <th>0</th>\n",
       "      <td>GUNMFC</td>\n",
       "      <td>BUNBFKC</td>\n",
       "      <td>RFMHXZ</td>\n",
       "      <td>Factual</td>\n",
       "      <td>00:00:21</td>\n",
       "      <td>1486911129420_1</td>\n",
       "      <td>2017-02-12 15:21:24.544</td>\n",
       "      <td>20920.0</td>\n",
       "      <td>weekday_6</td>\n",
       "      <td>Afternoon</td>\n",
       "      <td>0.350000</td>\n",
       "      <td>3</td>\n",
       "      <td>0.348667</td>\n",
       "    </tr>\n",
       "    <tr>\n",
       "      <th>1</th>\n",
       "      <td>GUNMFC</td>\n",
       "      <td>SBTKDEW</td>\n",
       "      <td>EWBFGO</td>\n",
       "      <td>Comedy</td>\n",
       "      <td>00:01:51</td>\n",
       "      <td>1484864257965_1</td>\n",
       "      <td>2017-01-19 22:47:04.648</td>\n",
       "      <td>111285.0</td>\n",
       "      <td>weekday_3</td>\n",
       "      <td>Evening</td>\n",
       "      <td>1.850000</td>\n",
       "      <td>1</td>\n",
       "      <td>1.854750</td>\n",
       "    </tr>\n",
       "    <tr>\n",
       "      <th>2</th>\n",
       "      <td>GUNMFC</td>\n",
       "      <td>AXXRZDT</td>\n",
       "      <td>HFZOYT</td>\n",
       "      <td>Factual</td>\n",
       "      <td>00:00:30</td>\n",
       "      <td>1487099603980_1</td>\n",
       "      <td>2017-02-14 19:42:36.667</td>\n",
       "      <td>29945.0</td>\n",
       "      <td>weekday_1</td>\n",
       "      <td>Evening</td>\n",
       "      <td>0.500000</td>\n",
       "      <td>3</td>\n",
       "      <td>0.499083</td>\n",
       "    </tr>\n",
       "    <tr>\n",
       "      <th>3</th>\n",
       "      <td>GUNMFC</td>\n",
       "      <td>WEXFFOO</td>\n",
       "      <td>HZCOOC</td>\n",
       "      <td>Entertainment</td>\n",
       "      <td>00:01:22</td>\n",
       "      <td>1484773546557_1</td>\n",
       "      <td>2017-01-18 21:35:11.466</td>\n",
       "      <td>82620.0</td>\n",
       "      <td>weekday_2</td>\n",
       "      <td>Evening</td>\n",
       "      <td>1.366667</td>\n",
       "      <td>1</td>\n",
       "      <td>1.377000</td>\n",
       "    </tr>\n",
       "    <tr>\n",
       "      <th>4</th>\n",
       "      <td>GUNMFC</td>\n",
       "      <td>AUQGTSV</td>\n",
       "      <td>YMAXJD</td>\n",
       "      <td>Sport</td>\n",
       "      <td>00:01:37</td>\n",
       "      <td>1486911176609_1</td>\n",
       "      <td>2017-02-12 15:22:08.965</td>\n",
       "      <td>97444.0</td>\n",
       "      <td>weekday_6</td>\n",
       "      <td>Afternoon</td>\n",
       "      <td>1.616667</td>\n",
       "      <td>3</td>\n",
       "      <td>1.624067</td>\n",
       "    </tr>\n",
       "    <tr>\n",
       "      <th>5</th>\n",
       "      <td>GUNMFC</td>\n",
       "      <td>UDRXGNE</td>\n",
       "      <td>ZLRAEZ</td>\n",
       "      <td>Comedy</td>\n",
       "      <td>00:08:30</td>\n",
       "      <td>1489351718862_1</td>\n",
       "      <td>2017-03-12 21:17:33.148</td>\n",
       "      <td>345700.0</td>\n",
       "      <td>weekday_6</td>\n",
       "      <td>Evening</td>\n",
       "      <td>8.500000</td>\n",
       "      <td>5</td>\n",
       "      <td>5.761667</td>\n",
       "    </tr>\n",
       "    <tr>\n",
       "      <th>6</th>\n",
       "      <td>GUNMFC</td>\n",
       "      <td>NEMLWLO</td>\n",
       "      <td>ACUBNQ</td>\n",
       "      <td>Factual</td>\n",
       "      <td>00:17:23</td>\n",
       "      <td>1487099638088_2</td>\n",
       "      <td>2017-02-14 19:43:07.581</td>\n",
       "      <td>30038.0</td>\n",
       "      <td>weekday_1</td>\n",
       "      <td>Evening</td>\n",
       "      <td>17.383333</td>\n",
       "      <td>3</td>\n",
       "      <td>0.500633</td>\n",
       "    </tr>\n",
       "    <tr>\n",
       "      <th>7</th>\n",
       "      <td>VXAGMM</td>\n",
       "      <td>GPHKEFW</td>\n",
       "      <td>FGCABG</td>\n",
       "      <td>Drama</td>\n",
       "      <td>00:00:10</td>\n",
       "      <td>1488232316128_1</td>\n",
       "      <td>2017-02-27 22:21:59.069</td>\n",
       "      <td>2329.0</td>\n",
       "      <td>weekday_0</td>\n",
       "      <td>Evening</td>\n",
       "      <td>0.166667</td>\n",
       "      <td>4</td>\n",
       "      <td>0.038817</td>\n",
       "    </tr>\n",
       "    <tr>\n",
       "      <th>8</th>\n",
       "      <td>VXAGMM</td>\n",
       "      <td>TQEFFFO</td>\n",
       "      <td>JTALPD</td>\n",
       "      <td>Drama</td>\n",
       "      <td>00:00:29</td>\n",
       "      <td>1484436674473_2</td>\n",
       "      <td>2017-01-15 00:02:12.819</td>\n",
       "      <td>6807.0</td>\n",
       "      <td>weekday_6</td>\n",
       "      <td>Night</td>\n",
       "      <td>0.483333</td>\n",
       "      <td>1</td>\n",
       "      <td>0.113450</td>\n",
       "    </tr>\n",
       "    <tr>\n",
       "      <th>9</th>\n",
       "      <td>VXAGMM</td>\n",
       "      <td>PEJGSNX</td>\n",
       "      <td>ZBWYCA</td>\n",
       "      <td>Drama</td>\n",
       "      <td>00:00:30</td>\n",
       "      <td>1491166675449_1</td>\n",
       "      <td>2017-04-02 21:28:05.684</td>\n",
       "      <td>5703.0</td>\n",
       "      <td>weekday_6</td>\n",
       "      <td>Evening</td>\n",
       "      <td>0.500000</td>\n",
       "      <td>6</td>\n",
       "      <td>0.095050</td>\n",
       "    </tr>\n",
       "  </tbody>\n",
       "</table>\n",
       "</div>"
      ],
      "text/plain": [
       "  user_id program_id series_id          genre programme_duration  \\\n",
       "0  GUNMFC    BUNBFKC    RFMHXZ        Factual           00:00:21   \n",
       "1  GUNMFC    SBTKDEW    EWBFGO         Comedy           00:01:51   \n",
       "2  GUNMFC    AXXRZDT    HFZOYT        Factual           00:00:30   \n",
       "3  GUNMFC    WEXFFOO    HZCOOC  Entertainment           00:01:22   \n",
       "4  GUNMFC    AUQGTSV    YMAXJD          Sport           00:01:37   \n",
       "5  GUNMFC    UDRXGNE    ZLRAEZ         Comedy           00:08:30   \n",
       "6  GUNMFC    NEMLWLO    ACUBNQ        Factual           00:17:23   \n",
       "7  VXAGMM    GPHKEFW    FGCABG          Drama           00:00:10   \n",
       "8  VXAGMM    TQEFFFO    JTALPD          Drama           00:00:29   \n",
       "9  VXAGMM    PEJGSNX    ZBWYCA          Drama           00:00:30   \n",
       "\n",
       "      streaming_id         start_date_time  time_viewed    weekday  \\\n",
       "0  1486911129420_1 2017-02-12 15:21:24.544      20920.0  weekday_6   \n",
       "1  1484864257965_1 2017-01-19 22:47:04.648     111285.0  weekday_3   \n",
       "2  1487099603980_1 2017-02-14 19:42:36.667      29945.0  weekday_1   \n",
       "3  1484773546557_1 2017-01-18 21:35:11.466      82620.0  weekday_2   \n",
       "4  1486911176609_1 2017-02-12 15:22:08.965      97444.0  weekday_6   \n",
       "5  1489351718862_1 2017-03-12 21:17:33.148     345700.0  weekday_6   \n",
       "6  1487099638088_2 2017-02-14 19:43:07.581      30038.0  weekday_1   \n",
       "7  1488232316128_1 2017-02-27 22:21:59.069       2329.0  weekday_0   \n",
       "8  1484436674473_2 2017-01-15 00:02:12.819       6807.0  weekday_6   \n",
       "9  1491166675449_1 2017-04-02 21:28:05.684       5703.0  weekday_6   \n",
       "\n",
       "  time_of_day  programme_duration_mins  twoweek  min_watched  \n",
       "0   Afternoon                 0.350000        3     0.348667  \n",
       "1     Evening                 1.850000        1     1.854750  \n",
       "2     Evening                 0.500000        3     0.499083  \n",
       "3     Evening                 1.366667        1     1.377000  \n",
       "4   Afternoon                 1.616667        3     1.624067  \n",
       "5     Evening                 8.500000        5     5.761667  \n",
       "6     Evening                17.383333        3     0.500633  \n",
       "7     Evening                 0.166667        4     0.038817  \n",
       "8       Night                 0.483333        1     0.113450  \n",
       "9     Evening                 0.500000        6     0.095050  "
      ]
     },
     "execution_count": 28,
     "metadata": {},
     "output_type": "execute_result"
    }
   ],
   "source": [
    "# Apply the functions to the dataframe\n",
    "data['weekday'] = data['start_date_time'].apply(get_weekday)\n",
    "data['time_of_day'] = data['start_date_time'].apply(get_timeofday)\n",
    "data['programme_duration_mins'] = data['programme_duration'].apply(parse_programme_duration)\n",
    "data['twoweek'] = data['start_date_time'].apply(get_twoweeknumber)\n",
    "\n",
    "data['min_watched'] = data['time_viewed']/(60000.0)\n",
    "\n",
    "data.head(10)"
   ]
  },
  {
   "cell_type": "markdown",
   "metadata": {},
   "source": [
    "# 1.2 Exploratory Data Analysis"
   ]
  },
  {
   "cell_type": "markdown",
   "metadata": {},
   "source": [
    "It refers to checking the quality of your data. Data sources can be noisy and often times data is missing for some observation or data can even be wrong. Cleaning your data involves both inferring missing values and identifying outliers. It involves generating descriptive statistics and visualising distributions"
   ]
  },
  {
   "cell_type": "markdown",
   "metadata": {},
   "source": [
    "# 1.2.2 Data quality check"
   ]
  },
  {
   "cell_type": "code",
   "execution_count": 29,
   "metadata": {},
   "outputs": [],
   "source": [
    "# check how many missing and unique values there are per column"
   ]
  },
  {
   "cell_type": "code",
   "execution_count": 45,
   "metadata": {},
   "outputs": [
    {
     "name": "stdout",
     "output_type": "stream",
     "text": [
      "user_id - Missing value count 0 -Unique  9937\n",
      "program_id - Missing value count 33698 -Unique  23857\n",
      "series_id - Missing value count 33698 -Unique  5921\n",
      "genre - Missing value count 67719 -Unique  12\n",
      "programme_duration - Missing value count 33698 -Unique  891\n",
      "streaming_id - Missing value count 0 -Unique  434430\n",
      "start_date_time - Missing value count 0 -Unique  490626\n",
      "time_viewed - Missing value count 1900 -Unique  259532\n",
      "weekday - Missing value count 0 -Unique  7\n",
      "time_of_day - Missing value count 0 -Unique  4\n",
      "programme_duration_mins - Missing value count 33698 -Unique  891\n",
      "twoweek - Missing value count 0 -Unique  10\n",
      "min_watched - Missing value count 1900 -Unique  259532\n"
     ]
    }
   ],
   "source": [
    "# unique() is an instance method that return a list of the unique items for the given column instance\n",
    "features = data.columns.values\n",
    "for feature in features:\n",
    "    print(feature, '- Missing value count', sum(data[feature].isnull()), '-Unique ', len(data[feature].unique()) )\n",
    "    # if NaN present in the array returned by unique(), len() shall also count it\n",
    "    "
   ]
  },
  {
   "cell_type": "code",
   "execution_count": 44,
   "metadata": {},
   "outputs": [
    {
     "data": {
      "text/plain": [
       "12"
      ]
     },
     "execution_count": 44,
     "metadata": {},
     "output_type": "execute_result"
    }
   ],
   "source": [
    "len(data['genre'].unique())"
   ]
  },
  {
   "cell_type": "code",
   "execution_count": 50,
   "metadata": {},
   "outputs": [
    {
     "data": {
      "text/html": [
       "<div>\n",
       "<style scoped>\n",
       "    .dataframe tbody tr th:only-of-type {\n",
       "        vertical-align: middle;\n",
       "    }\n",
       "\n",
       "    .dataframe tbody tr th {\n",
       "        vertical-align: top;\n",
       "    }\n",
       "\n",
       "    .dataframe thead th {\n",
       "        text-align: right;\n",
       "    }\n",
       "</style>\n",
       "<table border=\"1\" class=\"dataframe\">\n",
       "  <thead>\n",
       "    <tr style=\"text-align: right;\">\n",
       "      <th></th>\n",
       "      <th>user_id</th>\n",
       "      <th>program_id</th>\n",
       "      <th>series_id</th>\n",
       "      <th>genre</th>\n",
       "      <th>programme_duration</th>\n",
       "      <th>streaming_id</th>\n",
       "      <th>start_date_time</th>\n",
       "      <th>time_viewed</th>\n",
       "      <th>weekday</th>\n",
       "      <th>time_of_day</th>\n",
       "      <th>programme_duration_mins</th>\n",
       "      <th>twoweek</th>\n",
       "      <th>min_watched</th>\n",
       "    </tr>\n",
       "  </thead>\n",
       "  <tbody>\n",
       "    <tr>\n",
       "      <th>0</th>\n",
       "      <td>GUNMFC</td>\n",
       "      <td>BUNBFKC</td>\n",
       "      <td>RFMHXZ</td>\n",
       "      <td>Factual</td>\n",
       "      <td>00:00:21</td>\n",
       "      <td>1486911129420_1</td>\n",
       "      <td>2017-02-12 15:21:24.544</td>\n",
       "      <td>20920.0</td>\n",
       "      <td>weekday_6</td>\n",
       "      <td>Afternoon</td>\n",
       "      <td>0.350000</td>\n",
       "      <td>3</td>\n",
       "      <td>0.348667</td>\n",
       "    </tr>\n",
       "    <tr>\n",
       "      <th>1</th>\n",
       "      <td>GUNMFC</td>\n",
       "      <td>SBTKDEW</td>\n",
       "      <td>EWBFGO</td>\n",
       "      <td>Comedy</td>\n",
       "      <td>00:01:51</td>\n",
       "      <td>1484864257965_1</td>\n",
       "      <td>2017-01-19 22:47:04.648</td>\n",
       "      <td>111285.0</td>\n",
       "      <td>weekday_3</td>\n",
       "      <td>Evening</td>\n",
       "      <td>1.850000</td>\n",
       "      <td>1</td>\n",
       "      <td>1.854750</td>\n",
       "    </tr>\n",
       "    <tr>\n",
       "      <th>2</th>\n",
       "      <td>GUNMFC</td>\n",
       "      <td>AXXRZDT</td>\n",
       "      <td>HFZOYT</td>\n",
       "      <td>Factual</td>\n",
       "      <td>00:00:30</td>\n",
       "      <td>1487099603980_1</td>\n",
       "      <td>2017-02-14 19:42:36.667</td>\n",
       "      <td>29945.0</td>\n",
       "      <td>weekday_1</td>\n",
       "      <td>Evening</td>\n",
       "      <td>0.500000</td>\n",
       "      <td>3</td>\n",
       "      <td>0.499083</td>\n",
       "    </tr>\n",
       "    <tr>\n",
       "      <th>3</th>\n",
       "      <td>GUNMFC</td>\n",
       "      <td>WEXFFOO</td>\n",
       "      <td>HZCOOC</td>\n",
       "      <td>Entertainment</td>\n",
       "      <td>00:01:22</td>\n",
       "      <td>1484773546557_1</td>\n",
       "      <td>2017-01-18 21:35:11.466</td>\n",
       "      <td>82620.0</td>\n",
       "      <td>weekday_2</td>\n",
       "      <td>Evening</td>\n",
       "      <td>1.366667</td>\n",
       "      <td>1</td>\n",
       "      <td>1.377000</td>\n",
       "    </tr>\n",
       "    <tr>\n",
       "      <th>4</th>\n",
       "      <td>GUNMFC</td>\n",
       "      <td>AUQGTSV</td>\n",
       "      <td>YMAXJD</td>\n",
       "      <td>Sport</td>\n",
       "      <td>00:01:37</td>\n",
       "      <td>1486911176609_1</td>\n",
       "      <td>2017-02-12 15:22:08.965</td>\n",
       "      <td>97444.0</td>\n",
       "      <td>weekday_6</td>\n",
       "      <td>Afternoon</td>\n",
       "      <td>1.616667</td>\n",
       "      <td>3</td>\n",
       "      <td>1.624067</td>\n",
       "    </tr>\n",
       "  </tbody>\n",
       "</table>\n",
       "</div>"
      ],
      "text/plain": [
       "  user_id program_id series_id          genre programme_duration  \\\n",
       "0  GUNMFC    BUNBFKC    RFMHXZ        Factual           00:00:21   \n",
       "1  GUNMFC    SBTKDEW    EWBFGO         Comedy           00:01:51   \n",
       "2  GUNMFC    AXXRZDT    HFZOYT        Factual           00:00:30   \n",
       "3  GUNMFC    WEXFFOO    HZCOOC  Entertainment           00:01:22   \n",
       "4  GUNMFC    AUQGTSV    YMAXJD          Sport           00:01:37   \n",
       "\n",
       "      streaming_id         start_date_time  time_viewed    weekday  \\\n",
       "0  1486911129420_1 2017-02-12 15:21:24.544      20920.0  weekday_6   \n",
       "1  1484864257965_1 2017-01-19 22:47:04.648     111285.0  weekday_3   \n",
       "2  1487099603980_1 2017-02-14 19:42:36.667      29945.0  weekday_1   \n",
       "3  1484773546557_1 2017-01-18 21:35:11.466      82620.0  weekday_2   \n",
       "4  1486911176609_1 2017-02-12 15:22:08.965      97444.0  weekday_6   \n",
       "\n",
       "  time_of_day  programme_duration_mins  twoweek  min_watched  \n",
       "0   Afternoon                 0.350000        3     0.348667  \n",
       "1     Evening                 1.850000        1     1.854750  \n",
       "2     Evening                 0.500000        3     0.499083  \n",
       "3     Evening                 1.366667        1     1.377000  \n",
       "4   Afternoon                 1.616667        3     1.624067  "
      ]
     },
     "execution_count": 50,
     "metadata": {},
     "output_type": "execute_result"
    }
   ],
   "source": [
    "data.head()"
   ]
  },
  {
   "cell_type": "code",
   "execution_count": null,
   "metadata": {},
   "outputs": [],
   "source": []
  },
  {
   "cell_type": "code",
   "execution_count": null,
   "metadata": {},
   "outputs": [],
   "source": []
  }
 ],
 "metadata": {
  "kernelspec": {
   "display_name": "Python 3",
   "language": "python",
   "name": "python3"
  },
  "language_info": {
   "codemirror_mode": {
    "name": "ipython",
    "version": 3
   },
   "file_extension": ".py",
   "mimetype": "text/x-python",
   "name": "python",
   "nbconvert_exporter": "python",
   "pygments_lexer": "ipython3",
   "version": "3.4.3"
  }
 },
 "nbformat": 4,
 "nbformat_minor": 2
}
